{
 "cells": [
  {
   "cell_type": "code",
   "execution_count": 1,
   "id": "349c324a-5759-4623-93cb-58b1291bd437",
   "metadata": {},
   "outputs": [],
   "source": [
    "# Erros, exceções e Testes"
   ]
  },
  {
   "cell_type": "code",
   "execution_count": 3,
   "id": "b9ad61bc-649c-4a38-8c44-cb783ce8a6d3",
   "metadata": {},
   "outputs": [],
   "source": [
    "#1. Erro de sintaxe"
   ]
  },
  {
   "cell_type": "code",
   "execution_count": 4,
   "id": "9ed884f3-d23a-41c5-8d61-2c8650b08f2a",
   "metadata": {},
   "outputs": [
    {
     "ename": "SyntaxError",
     "evalue": "expected ':' (1150839820.py, line 1)",
     "output_type": "error",
     "traceback": [
      "\u001b[0;36m  Input \u001b[0;32mIn [4]\u001b[0;36m\u001b[0m\n\u001b[0;31m    if 2 > 1\u001b[0m\n\u001b[0m            ^\u001b[0m\n\u001b[0;31mSyntaxError\u001b[0m\u001b[0;31m:\u001b[0m expected ':'\n"
     ]
    }
   ],
   "source": [
    "if 2 > 1\n",
    "    print(\"Dois maior que um\")"
   ]
  },
  {
   "cell_type": "code",
   "execution_count": 5,
   "id": "03bd5244-ee50-49a1-ad04-45abee2f4112",
   "metadata": {},
   "outputs": [],
   "source": [
    "#2. Erros em tempo de execução (exceções) se não for tratado, será impresso um traceback daquele erro\n",
    "#e mais detalhes do motivo que ocorreu."
   ]
  },
  {
   "cell_type": "code",
   "execution_count": 6,
   "id": "ee6680c3-6cab-488e-baea-064eb5ae1d36",
   "metadata": {},
   "outputs": [
    {
     "ename": "ZeroDivisionError",
     "evalue": "division by zero",
     "output_type": "error",
     "traceback": [
      "\u001b[0;31m---------------------------------------------------------------------------\u001b[0m",
      "\u001b[0;31mZeroDivisionError\u001b[0m                         Traceback (most recent call last)",
      "Input \u001b[0;32mIn [6]\u001b[0m, in \u001b[0;36m<cell line: 1>\u001b[0;34m()\u001b[0m\n\u001b[0;32m----> 1\u001b[0m x \u001b[38;5;241m=\u001b[39m \u001b[38;5;241;43m1\u001b[39;49m\u001b[43m \u001b[49m\u001b[38;5;241;43m/\u001b[39;49m\u001b[43m \u001b[49m\u001b[38;5;241;43m0\u001b[39;49m\n",
      "\u001b[0;31mZeroDivisionError\u001b[0m: division by zero"
     ]
    }
   ],
   "source": [
    "x = 1 / 0"
   ]
  },
  {
   "cell_type": "code",
   "execution_count": 7,
   "id": "4f9f09ec-503a-407d-94da-2fb1ac56cd6d",
   "metadata": {},
   "outputs": [
    {
     "ename": "FileNotFoundError",
     "evalue": "[Errno 2] No such file or directory: 'arquivo.txt'",
     "output_type": "error",
     "traceback": [
      "\u001b[0;31m---------------------------------------------------------------------------\u001b[0m",
      "\u001b[0;31mFileNotFoundError\u001b[0m                         Traceback (most recent call last)",
      "Input \u001b[0;32mIn [7]\u001b[0m, in \u001b[0;36m<cell line: 1>\u001b[0;34m()\u001b[0m\n\u001b[0;32m----> 1\u001b[0m f \u001b[38;5;241m=\u001b[39m \u001b[38;5;28;43mopen\u001b[39;49m\u001b[43m(\u001b[49m\u001b[38;5;124;43m\"\u001b[39;49m\u001b[38;5;124;43marquivo.txt\u001b[39;49m\u001b[38;5;124;43m\"\u001b[39;49m\u001b[43m)\u001b[49m\n",
      "\u001b[0;31mFileNotFoundError\u001b[0m: [Errno 2] No such file or directory: 'arquivo.txt'"
     ]
    }
   ],
   "source": [
    "f = open(\"arquivo.txt\")"
   ]
  },
  {
   "cell_type": "code",
   "execution_count": 8,
   "id": "b3e5b959-fdea-4768-b420-21901955bfc4",
   "metadata": {},
   "outputs": [],
   "source": [
    "# Exceções construídas no Python"
   ]
  },
  {
   "cell_type": "code",
   "execution_count": 10,
   "id": "031d9ad2-ff37-493b-aa92-0157d27b8ec1",
   "metadata": {},
   "outputs": [],
   "source": [
    "e = locals()['__builtins__']"
   ]
  },
  {
   "cell_type": "code",
   "execution_count": 11,
   "id": "3e0d1430-3321-4e32-a21b-fac05a092749",
   "metadata": {},
   "outputs": [
    {
     "name": "stdout",
     "output_type": "stream",
     "text": [
      "['ArithmeticError', 'AssertionError', 'AttributeError', 'BaseException', 'BlockingIOError', 'BrokenPipeError', 'BufferError', 'BytesWarning', 'ChildProcessError', 'ConnectionAbortedError', 'ConnectionError', 'ConnectionRefusedError', 'ConnectionResetError', 'DeprecationWarning', 'EOFError', 'Ellipsis', 'EncodingWarning', 'EnvironmentError', 'Exception', 'False', 'FileExistsError', 'FileNotFoundError', 'FloatingPointError', 'FutureWarning', 'GeneratorExit', 'IOError', 'ImportError', 'ImportWarning', 'IndentationError', 'IndexError', 'InterruptedError', 'IsADirectoryError', 'KeyError', 'KeyboardInterrupt', 'LookupError', 'MemoryError', 'ModuleNotFoundError', 'NameError', 'None', 'NotADirectoryError', 'NotImplemented', 'NotImplementedError', 'OSError', 'OverflowError', 'PendingDeprecationWarning', 'PermissionError', 'ProcessLookupError', 'RecursionError', 'ReferenceError', 'ResourceWarning', 'RuntimeError', 'RuntimeWarning', 'StopAsyncIteration', 'StopIteration', 'SyntaxError', 'SyntaxWarning', 'SystemError', 'SystemExit', 'TabError', 'TimeoutError', 'True', 'TypeError', 'UnboundLocalError', 'UnicodeDecodeError', 'UnicodeEncodeError', 'UnicodeError', 'UnicodeTranslateError', 'UnicodeWarning', 'UserWarning', 'ValueError', 'Warning', 'ZeroDivisionError', '__IPYTHON__', '__build_class__', '__debug__', '__doc__', '__import__', '__loader__', '__name__', '__package__', '__spec__', 'abs', 'aiter', 'all', 'anext', 'any', 'ascii', 'bin', 'bool', 'breakpoint', 'bytearray', 'bytes', 'callable', 'chr', 'classmethod', 'compile', 'complex', 'copyright', 'credits', 'delattr', 'dict', 'dir', 'display', 'divmod', 'enumerate', 'eval', 'exec', 'execfile', 'filter', 'float', 'format', 'frozenset', 'get_ipython', 'getattr', 'globals', 'hasattr', 'hash', 'help', 'hex', 'id', 'input', 'int', 'isinstance', 'issubclass', 'iter', 'len', 'license', 'list', 'locals', 'map', 'max', 'memoryview', 'min', 'next', 'object', 'oct', 'open', 'ord', 'pow', 'print', 'property', 'range', 'repr', 'reversed', 'round', 'runfile', 'set', 'setattr', 'slice', 'sorted', 'staticmethod', 'str', 'sum', 'super', 'tuple', 'type', 'vars', 'zip']\n"
     ]
    }
   ],
   "source": [
    "print(dir(e))"
   ]
  },
  {
   "cell_type": "code",
   "execution_count": 12,
   "id": "89dc5314-6af0-44fe-9d7d-00c2ca6e971b",
   "metadata": {},
   "outputs": [
    {
     "name": "stdout",
     "output_type": "stream",
     "text": [
      "<class 'module'>\n"
     ]
    }
   ],
   "source": [
    "print(type(e))"
   ]
  },
  {
   "cell_type": "code",
   "execution_count": 13,
   "id": "3c57cf31-bee8-4006-95ea-0971d4e12227",
   "metadata": {},
   "outputs": [],
   "source": [
    "# Podemos definir nossas próprias exceções através do try, except, finally"
   ]
  },
  {
   "cell_type": "code",
   "execution_count": 14,
   "id": "9183f4c5-73ae-4f1a-bb9c-5e945a421c3a",
   "metadata": {},
   "outputs": [
    {
     "name": "stdout",
     "output_type": "stream",
     "text": [
      "Uma exceção ocorreu\n"
     ]
    }
   ],
   "source": [
    "try:\n",
    "    print(x)\n",
    "except:\n",
    "    print(\"Uma exceção ocorreu\")"
   ]
  },
  {
   "cell_type": "code",
   "execution_count": 15,
   "id": "8aeedf0e-7ac4-412b-92b4-04f58af14d15",
   "metadata": {},
   "outputs": [],
   "source": [
    "# Caso não tivéssemos o bloco try/except acima o programa iria crashar e um erro surgiria"
   ]
  },
  {
   "cell_type": "code",
   "execution_count": 16,
   "id": "273175d4-0b1a-4bac-b90a-1885fdc96a06",
   "metadata": {},
   "outputs": [
    {
     "ename": "NameError",
     "evalue": "name 'x' is not defined",
     "output_type": "error",
     "traceback": [
      "\u001b[0;31m---------------------------------------------------------------------------\u001b[0m",
      "\u001b[0;31mNameError\u001b[0m                                 Traceback (most recent call last)",
      "Input \u001b[0;32mIn [16]\u001b[0m, in \u001b[0;36m<cell line: 1>\u001b[0;34m()\u001b[0m\n\u001b[0;32m----> 1\u001b[0m \u001b[38;5;28mprint\u001b[39m(\u001b[43mx\u001b[49m)\n",
      "\u001b[0;31mNameError\u001b[0m: name 'x' is not defined"
     ]
    }
   ],
   "source": [
    "print(x)"
   ]
  },
  {
   "cell_type": "code",
   "execution_count": 17,
   "id": "338ed710-1fe9-47b5-b97c-13c097183103",
   "metadata": {},
   "outputs": [
    {
     "name": "stdout",
     "output_type": "stream",
     "text": [
      "Variável x não está definida\n"
     ]
    }
   ],
   "source": [
    "try:\n",
    "    print(x)\n",
    "except NameError:\n",
    "    print(\"Variável x não está definida\")\n",
    "except:\n",
    "    print(\"Algum outro erro ocorreu\")"
   ]
  },
  {
   "cell_type": "code",
   "execution_count": 18,
   "id": "663b4d85-fe26-45c7-8c9f-44442d3d571b",
   "metadata": {},
   "outputs": [],
   "source": [
    "# O bloco finally, se especificado, será executado independente de surgir ou não um erro no try"
   ]
  },
  {
   "cell_type": "code",
   "execution_count": 19,
   "id": "586c6d37-763b-4ec4-9b6b-deeaabbbbe23",
   "metadata": {},
   "outputs": [
    {
     "name": "stdout",
     "output_type": "stream",
     "text": [
      "Algum erro ocorreu\n",
      "O try e except foram finalizados\n"
     ]
    }
   ],
   "source": [
    "try:\n",
    "    print(x)\n",
    "except:\n",
    "    print(\"Algum erro ocorreu\")\n",
    "finally:\n",
    "    print(\"O try e except foram finalizados\")"
   ]
  },
  {
   "cell_type": "code",
   "execution_count": 21,
   "id": "8d049761-85a6-44ce-b795-96dc4593de47",
   "metadata": {},
   "outputs": [
    {
     "name": "stdin",
     "output_type": "stream",
     "text": [
      "Diga-me um número:  4\n",
      "Diga-me outro número:  2\n"
     ]
    },
    {
     "name": "stdout",
     "output_type": "stream",
     "text": [
      "2.0\n"
     ]
    }
   ],
   "source": [
    "try:\n",
    "    a = int(input(\"Diga-me um número: \"))\n",
    "    b = int(input(\"Diga-me outro número: \"))\n",
    "    print(a/b)\n",
    "except:\n",
    "    print(\"erro no input do usuário\")"
   ]
  },
  {
   "cell_type": "code",
   "execution_count": 22,
   "id": "f851d5f5-0871-4cde-8567-072b3746667c",
   "metadata": {},
   "outputs": [
    {
     "name": "stdin",
     "output_type": "stream",
     "text": [
      "Diga-me um número:  10\n",
      "Diga-me outro número:  0\n"
     ]
    },
    {
     "name": "stdout",
     "output_type": "stream",
     "text": [
      "erro no input do usuário\n"
     ]
    }
   ],
   "source": [
    "try:\n",
    "    a = int(input(\"Diga-me um número: \"))\n",
    "    b = int(input(\"Diga-me outro número: \"))\n",
    "    print(a/b)\n",
    "except:\n",
    "    print(\"erro no input do usuário\")"
   ]
  },
  {
   "cell_type": "code",
   "execution_count": null,
   "id": "48df80b3-9f41-440c-8b40-4ed0518cdd2a",
   "metadata": {},
   "outputs": [],
   "source": []
  }
 ],
 "metadata": {
  "kernelspec": {
   "display_name": "Python 3 (ipykernel)",
   "language": "python",
   "name": "python3"
  },
  "language_info": {
   "codemirror_mode": {
    "name": "ipython",
    "version": 3
   },
   "file_extension": ".py",
   "mimetype": "text/x-python",
   "name": "python",
   "nbconvert_exporter": "python",
   "pygments_lexer": "ipython3",
   "version": "3.10.5"
  }
 },
 "nbformat": 4,
 "nbformat_minor": 5
}
