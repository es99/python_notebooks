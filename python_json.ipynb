{
 "cells": [
  {
   "cell_type": "code",
   "execution_count": 1,
   "id": "104000c5-0ca8-4b01-9914-89b86042cde3",
   "metadata": {},
   "outputs": [],
   "source": [
    "# Transformando dados JSON em um formato Python"
   ]
  },
  {
   "cell_type": "code",
   "execution_count": 2,
   "id": "b836f1eb-8879-4714-a4e5-1884fcf1688b",
   "metadata": {},
   "outputs": [],
   "source": [
    "stringJsonData = '{\"name\": \"Zophie\", \"isCat\": true, \"miceCaught\": 0, \"felineIQ\": null}'"
   ]
  },
  {
   "cell_type": "code",
   "execution_count": 3,
   "id": "0ec12ee9-3806-4769-9d88-fa94806f63c8",
   "metadata": {},
   "outputs": [],
   "source": [
    "import json"
   ]
  },
  {
   "cell_type": "code",
   "execution_count": 4,
   "id": "5ba61ceb-adf3-4cf7-8bcf-ff611eebcd09",
   "metadata": {},
   "outputs": [],
   "source": [
    "jsonToPythonValue = json.loads(stringJsonData)"
   ]
  },
  {
   "cell_type": "code",
   "execution_count": 5,
   "id": "71682d6c-1bfd-4114-a052-c54eee493835",
   "metadata": {},
   "outputs": [
    {
     "data": {
      "text/plain": [
       "{'name': 'Zophie', 'isCat': True, 'miceCaught': 0, 'felineIQ': None}"
      ]
     },
     "execution_count": 5,
     "metadata": {},
     "output_type": "execute_result"
    }
   ],
   "source": [
    "jsonToPythonValue"
   ]
  },
  {
   "cell_type": "code",
   "execution_count": 6,
   "id": "3f0e85cf-1cb4-4c4f-9a8a-b6589d7b0c9c",
   "metadata": {},
   "outputs": [],
   "source": [
    "# String json se transformou em um dicionário Python, true -> True, null -> None"
   ]
  },
  {
   "cell_type": "code",
   "execution_count": 7,
   "id": "4d536c1d-b7e0-44d9-aa1b-3552940dfc64",
   "metadata": {},
   "outputs": [
    {
     "data": {
      "text/plain": [
       "dict"
      ]
     },
     "execution_count": 7,
     "metadata": {},
     "output_type": "execute_result"
    }
   ],
   "source": [
    "type(jsonToPythonValue)"
   ]
  },
  {
   "cell_type": "code",
   "execution_count": 8,
   "id": "104dfebc-a293-4835-ba89-547ed0f3c5fc",
   "metadata": {},
   "outputs": [],
   "source": [
    "# Transformando dados Python em formarto JSON"
   ]
  },
  {
   "cell_type": "code",
   "execution_count": 9,
   "id": "16ea959a-17da-4adc-a5f5-0d756b19cf20",
   "metadata": {},
   "outputs": [],
   "source": [
    "pythonValue = {\n",
    "    'isCat': True,\n",
    "    'miceCaught': 0,\n",
    "    'name': 'Zophie',\n",
    "    'felineIQ': None\n",
    "}"
   ]
  },
  {
   "cell_type": "code",
   "execution_count": 11,
   "id": "b4f8ddea-04fe-4c37-8eb3-a8302e32426e",
   "metadata": {},
   "outputs": [],
   "source": [
    "pythonToJson = json.dumps(pythonValue)"
   ]
  },
  {
   "cell_type": "code",
   "execution_count": 12,
   "id": "d637ad31-0ed2-4eaf-a061-93239c1976e2",
   "metadata": {},
   "outputs": [
    {
     "data": {
      "text/plain": [
       "str"
      ]
     },
     "execution_count": 12,
     "metadata": {},
     "output_type": "execute_result"
    }
   ],
   "source": [
    "type(pythonToJson)"
   ]
  },
  {
   "cell_type": "code",
   "execution_count": 13,
   "id": "a47988d6-eecb-493e-a11a-caed2c6927ca",
   "metadata": {},
   "outputs": [
    {
     "data": {
      "text/plain": [
       "'{\"isCat\": true, \"miceCaught\": 0, \"name\": \"Zophie\", \"felineIQ\": null}'"
      ]
     },
     "execution_count": 13,
     "metadata": {},
     "output_type": "execute_result"
    }
   ],
   "source": [
    "pythonToJson"
   ]
  },
  {
   "cell_type": "code",
   "execution_count": 14,
   "id": "5327dbd1-0c3b-4823-9198-c45711c33b38",
   "metadata": {},
   "outputs": [
    {
     "name": "stdout",
     "output_type": "stream",
     "text": [
      "{\"isCat\": true, \"miceCaught\": 0, \"name\": \"Zophie\", \"felineIQ\": null}\n"
     ]
    }
   ],
   "source": [
    "print(pythonToJson)"
   ]
  },
  {
   "cell_type": "code",
   "execution_count": 1,
   "id": "d63b6a1c-d80f-4712-9e9e-5eacaedca33a",
   "metadata": {},
   "outputs": [],
   "source": [
    "import json"
   ]
  },
  {
   "cell_type": "code",
   "execution_count": 2,
   "id": "0fddc7d0-b25e-45f5-9bca-24e75c76a0c6",
   "metadata": {},
   "outputs": [],
   "source": [
    "x = '{\"nome\":\"Rafael\", \"idade\":29, \"cidade\":\"São Paulo\"}'"
   ]
  },
  {
   "cell_type": "code",
   "execution_count": 3,
   "id": "a29bb843-daf6-4ba1-bc93-782a9de28b9a",
   "metadata": {},
   "outputs": [
    {
     "name": "stdout",
     "output_type": "stream",
     "text": [
      "29\n"
     ]
    }
   ],
   "source": [
    "y = json.loads(x)\n",
    "print(y['idade'])"
   ]
  },
  {
   "cell_type": "code",
   "execution_count": 4,
   "id": "c4925245-8d90-4a4d-91b4-fd71d82062b0",
   "metadata": {},
   "outputs": [],
   "source": [
    "d = dict(nome=\"Gabriel\", idade=27, cidade=\"Curitiba\")"
   ]
  },
  {
   "cell_type": "code",
   "execution_count": 5,
   "id": "9e7d1eaf-3647-49a1-8ba3-b6e6a8ab5327",
   "metadata": {},
   "outputs": [
    {
     "name": "stdout",
     "output_type": "stream",
     "text": [
      "{\"nome\": \"Gabriel\", \"idade\": 27, \"cidade\": \"Curitiba\"}\n"
     ]
    }
   ],
   "source": [
    "j = json.dumps(d)\n",
    "print(j)"
   ]
  },
  {
   "cell_type": "code",
   "execution_count": 6,
   "id": "c89da5f3-bbc7-438f-b3fc-48301d4495ef",
   "metadata": {},
   "outputs": [
    {
     "name": "stdout",
     "output_type": "stream",
     "text": [
      "{\"nome\": \"Francisco\", \"passou\": false, \"notas\": null}\n"
     ]
    }
   ],
   "source": [
    "aluno = {\"nome\": \"Francisco\", \"passou\": False, \"notas\": None}\n",
    "\n",
    "aluno_json = json.dumps(aluno)\n",
    "\n",
    "print(aluno_json)"
   ]
  },
  {
   "cell_type": "code",
   "execution_count": 7,
   "id": "6beea410-263a-46a3-99ef-a937119bdd82",
   "metadata": {},
   "outputs": [],
   "source": [
    "personagem = {\n",
    "    \"nome\": \"Talantyr\",\n",
    "    \"epiteto\": \"O Glorioso\",\n",
    "    \"nível\": 45,\n",
    "    \"vivo\": True,\n",
    "    \"atributos\": {\"força\": 45, \"destreza\": 60, \"inteligência\": 70},\n",
    "    \"mascotes\": (\"Lobo\", \"Coruja\"),\n",
    "    \"magias\": None,\n",
    "    \"itens\": [\n",
    "        {\"nome\": \"porção de mana\", \"quantidade\": 5},\n",
    "        {\"nome\": \"porção de vida\", \"quantidade\": 7}\n",
    "    ]\n",
    "}"
   ]
  },
  {
   "cell_type": "code",
   "execution_count": 9,
   "id": "a075326c-bcd6-4edf-885e-1eafc50d9c89",
   "metadata": {},
   "outputs": [
    {
     "name": "stdout",
     "output_type": "stream",
     "text": [
      "{\"nome\": \"Talantyr\", \"epiteto\": \"O Glorioso\", \"nível\": 45, \"vivo\": true, \"atributos\": {\"força\": 45, \"destreza\": 60, \"inteligência\": 70}, \"mascotes\": [\"Lobo\", \"Coruja\"], \"magias\": null, \"itens\": [{\"nome\": \"porção de mana\", \"quantidade\": 5}, {\"nome\": \"porção de vida\", \"quantidade\": 7}]}\n"
     ]
    }
   ],
   "source": [
    "print(json.dumps(personagem, ensure_ascii=False))"
   ]
  },
  {
   "cell_type": "code",
   "execution_count": 10,
   "id": "91a54637-e5a5-4ff4-a49f-76db89d76d23",
   "metadata": {},
   "outputs": [],
   "source": [
    "# Para obtermos um output mais limpo:"
   ]
  },
  {
   "cell_type": "code",
   "execution_count": 11,
   "id": "28fb9faf-8c80-45c9-829b-8c6b2f95af11",
   "metadata": {},
   "outputs": [
    {
     "name": "stdout",
     "output_type": "stream",
     "text": [
      "{\n",
      "    \"nome\": \"Talantyr\",\n",
      "    \"epiteto\": \"O Glorioso\",\n",
      "    \"nível\": 45,\n",
      "    \"vivo\": true,\n",
      "    \"atributos\": {\n",
      "        \"força\": 45,\n",
      "        \"destreza\": 60,\n",
      "        \"inteligência\": 70\n",
      "    },\n",
      "    \"mascotes\": [\n",
      "        \"Lobo\",\n",
      "        \"Coruja\"\n",
      "    ],\n",
      "    \"magias\": null,\n",
      "    \"itens\": [\n",
      "        {\n",
      "            \"nome\": \"porção de mana\",\n",
      "            \"quantidade\": 5\n",
      "        },\n",
      "        {\n",
      "            \"nome\": \"porção de vida\",\n",
      "            \"quantidade\": 7\n",
      "        }\n",
      "    ]\n",
      "}\n"
     ]
    }
   ],
   "source": [
    "print(json.dumps(personagem, ensure_ascii=False, indent=4))"
   ]
  },
  {
   "cell_type": "code",
   "execution_count": 12,
   "id": "23d0664f-aa03-46be-8e39-ac85a72549e1",
   "metadata": {},
   "outputs": [],
   "source": [
    "# Caso queiramos o resultado organizado, podemos usar o parâmetro sort_keys"
   ]
  },
  {
   "cell_type": "code",
   "execution_count": 13,
   "id": "ec9680cd-432d-4161-b4dd-481eba96c707",
   "metadata": {},
   "outputs": [
    {
     "name": "stdout",
     "output_type": "stream",
     "text": [
      "{\n",
      "    \"atributos\": {\n",
      "        \"destreza\": 60,\n",
      "        \"força\": 45,\n",
      "        \"inteligência\": 70\n",
      "    },\n",
      "    \"epiteto\": \"O Glorioso\",\n",
      "    \"itens\": [\n",
      "        {\n",
      "            \"nome\": \"porção de mana\",\n",
      "            \"quantidade\": 5\n",
      "        },\n",
      "        {\n",
      "            \"nome\": \"porção de vida\",\n",
      "            \"quantidade\": 7\n",
      "        }\n",
      "    ],\n",
      "    \"magias\": null,\n",
      "    \"mascotes\": [\n",
      "        \"Lobo\",\n",
      "        \"Coruja\"\n",
      "    ],\n",
      "    \"nome\": \"Talantyr\",\n",
      "    \"nível\": 45,\n",
      "    \"vivo\": true\n",
      "}\n"
     ]
    }
   ],
   "source": [
    "print(json.dumps(personagem, ensure_ascii=False, indent=4, sort_keys=True))"
   ]
  },
  {
   "cell_type": "code",
   "execution_count": 14,
   "id": "a8f9a33b-87f4-4824-8dad-2672c6b13ea4",
   "metadata": {},
   "outputs": [],
   "source": [
    "# Consumindo uma API de testes"
   ]
  },
  {
   "cell_type": "code",
   "execution_count": 15,
   "id": "3fb9c09e-f3a8-4295-86ce-3cde93311135",
   "metadata": {},
   "outputs": [],
   "source": [
    "import requests"
   ]
  },
  {
   "cell_type": "code",
   "execution_count": 16,
   "id": "c69adac0-65a1-4e05-87a1-3f5b4bb14b6f",
   "metadata": {},
   "outputs": [],
   "source": [
    "result = requests.get(\"https://jsonplaceholder.typicode.com/posts\")"
   ]
  },
  {
   "cell_type": "code",
   "execution_count": 18,
   "id": "69f7de16-8a5d-4ce7-9fd8-1c9d912848ac",
   "metadata": {},
   "outputs": [],
   "source": [
    "result.raise_for_status() # Se não mostrar erros o GET foi bem sucedido"
   ]
  },
  {
   "cell_type": "code",
   "execution_count": 21,
   "id": "7ddf084c-0b67-4284-aa16-fdd5ae4026e3",
   "metadata": {},
   "outputs": [],
   "source": [
    "response = result.text #dados JSON retornados para response"
   ]
  },
  {
   "cell_type": "code",
   "execution_count": 23,
   "id": "c55f31a8-ae9d-49be-bb71-4715869996ad",
   "metadata": {},
   "outputs": [],
   "source": [
    "data = json.loads(response) #convert JSON em Python para ficar mais fácil de trabalhar"
   ]
  },
  {
   "cell_type": "code",
   "execution_count": 24,
   "id": "9a3affb6-8938-4857-9dad-0b818add91de",
   "metadata": {},
   "outputs": [
    {
     "data": {
      "text/plain": [
       "list"
      ]
     },
     "execution_count": 24,
     "metadata": {},
     "output_type": "execute_result"
    }
   ],
   "source": [
    "type(data)"
   ]
  },
  {
   "cell_type": "code",
   "execution_count": 28,
   "id": "18341caa-27ab-4e9f-ae32-098bc17a7fa1",
   "metadata": {},
   "outputs": [
    {
     "name": "stdout",
     "output_type": "stream",
     "text": [
      "User ID: 1\n",
      "ID: 1\n",
      "Título: sunt aut facere repellat provident occaecati excepturi optio reprehenderit\n",
      "User ID: 1\n",
      "ID: 2\n",
      "Título: qui est esse\n",
      "User ID: 1\n",
      "ID: 3\n",
      "Título: ea molestias quasi exercitationem repellat qui ipsa sit aut\n",
      "User ID: 1\n",
      "ID: 4\n",
      "Título: eum et est occaecati\n",
      "User ID: 1\n",
      "ID: 5\n",
      "Título: nesciunt quas odio\n",
      "User ID: 1\n",
      "ID: 6\n",
      "Título: dolorem eum magni eos aperiam quia\n",
      "User ID: 1\n",
      "ID: 7\n",
      "Título: magnam facilis autem\n",
      "User ID: 1\n",
      "ID: 8\n",
      "Título: dolorem dolore est ipsam\n",
      "User ID: 1\n",
      "ID: 9\n",
      "Título: nesciunt iure omnis dolorem tempora et accusantium\n",
      "User ID: 1\n",
      "ID: 10\n",
      "Título: optio molestias id quia eum\n",
      "User ID: 2\n",
      "ID: 11\n",
      "Título: et ea vero quia laudantium autem\n",
      "User ID: 2\n",
      "ID: 12\n",
      "Título: in quibusdam tempore odit est dolorem\n",
      "User ID: 2\n",
      "ID: 13\n",
      "Título: dolorum ut in voluptas mollitia et saepe quo animi\n",
      "User ID: 2\n",
      "ID: 14\n",
      "Título: voluptatem eligendi optio\n",
      "User ID: 2\n",
      "ID: 15\n",
      "Título: eveniet quod temporibus\n",
      "User ID: 2\n",
      "ID: 16\n",
      "Título: sint suscipit perspiciatis velit dolorum rerum ipsa laboriosam odio\n",
      "User ID: 2\n",
      "ID: 17\n",
      "Título: fugit voluptas sed molestias voluptatem provident\n",
      "User ID: 2\n",
      "ID: 18\n",
      "Título: voluptate et itaque vero tempora molestiae\n",
      "User ID: 2\n",
      "ID: 19\n",
      "Título: adipisci placeat illum aut reiciendis qui\n",
      "User ID: 2\n",
      "ID: 20\n",
      "Título: doloribus ad provident suscipit at\n",
      "User ID: 3\n",
      "ID: 21\n",
      "Título: asperiores ea ipsam voluptatibus modi minima quia sint\n",
      "User ID: 3\n",
      "ID: 22\n",
      "Título: dolor sint quo a velit explicabo quia nam\n",
      "User ID: 3\n",
      "ID: 23\n",
      "Título: maxime id vitae nihil numquam\n",
      "User ID: 3\n",
      "ID: 24\n",
      "Título: autem hic labore sunt dolores incidunt\n",
      "User ID: 3\n",
      "ID: 25\n",
      "Título: rem alias distinctio quo quis\n",
      "User ID: 3\n",
      "ID: 26\n",
      "Título: est et quae odit qui non\n",
      "User ID: 3\n",
      "ID: 27\n",
      "Título: quasi id et eos tenetur aut quo autem\n",
      "User ID: 3\n",
      "ID: 28\n",
      "Título: delectus ullam et corporis nulla voluptas sequi\n",
      "User ID: 3\n",
      "ID: 29\n",
      "Título: iusto eius quod necessitatibus culpa ea\n",
      "User ID: 3\n",
      "ID: 30\n",
      "Título: a quo magni similique perferendis\n",
      "User ID: 4\n",
      "ID: 31\n",
      "Título: ullam ut quidem id aut vel consequuntur\n",
      "User ID: 4\n",
      "ID: 32\n",
      "Título: doloremque illum aliquid sunt\n",
      "User ID: 4\n",
      "ID: 33\n",
      "Título: qui explicabo molestiae dolorem\n",
      "User ID: 4\n",
      "ID: 34\n",
      "Título: magnam ut rerum iure\n",
      "User ID: 4\n",
      "ID: 35\n",
      "Título: id nihil consequatur molestias animi provident\n",
      "User ID: 4\n",
      "ID: 36\n",
      "Título: fuga nam accusamus voluptas reiciendis itaque\n",
      "User ID: 4\n",
      "ID: 37\n",
      "Título: provident vel ut sit ratione est\n",
      "User ID: 4\n",
      "ID: 38\n",
      "Título: explicabo et eos deleniti nostrum ab id repellendus\n",
      "User ID: 4\n",
      "ID: 39\n",
      "Título: eos dolorem iste accusantium est eaque quam\n",
      "User ID: 4\n",
      "ID: 40\n",
      "Título: enim quo cumque\n",
      "User ID: 5\n",
      "ID: 41\n",
      "Título: non est facere\n",
      "User ID: 5\n",
      "ID: 42\n",
      "Título: commodi ullam sint et excepturi error explicabo praesentium voluptas\n",
      "User ID: 5\n",
      "ID: 43\n",
      "Título: eligendi iste nostrum consequuntur adipisci praesentium sit beatae perferendis\n",
      "User ID: 5\n",
      "ID: 44\n",
      "Título: optio dolor molestias sit\n",
      "User ID: 5\n",
      "ID: 45\n",
      "Título: ut numquam possimus omnis eius suscipit laudantium iure\n",
      "User ID: 5\n",
      "ID: 46\n",
      "Título: aut quo modi neque nostrum ducimus\n",
      "User ID: 5\n",
      "ID: 47\n",
      "Título: quibusdam cumque rem aut deserunt\n",
      "User ID: 5\n",
      "ID: 48\n",
      "Título: ut voluptatem illum ea doloribus itaque eos\n",
      "User ID: 5\n",
      "ID: 49\n",
      "Título: laborum non sunt aut ut assumenda perspiciatis voluptas\n",
      "User ID: 5\n",
      "ID: 50\n",
      "Título: repellendus qui recusandae incidunt voluptates tenetur qui omnis exercitationem\n",
      "User ID: 6\n",
      "ID: 51\n",
      "Título: soluta aliquam aperiam consequatur illo quis voluptas\n",
      "User ID: 6\n",
      "ID: 52\n",
      "Título: qui enim et consequuntur quia animi quis voluptate quibusdam\n",
      "User ID: 6\n",
      "ID: 53\n",
      "Título: ut quo aut ducimus alias\n",
      "User ID: 6\n",
      "ID: 54\n",
      "Título: sit asperiores ipsam eveniet odio non quia\n",
      "User ID: 6\n",
      "ID: 55\n",
      "Título: sit vel voluptatem et non libero\n",
      "User ID: 6\n",
      "ID: 56\n",
      "Título: qui et at rerum necessitatibus\n",
      "User ID: 6\n",
      "ID: 57\n",
      "Título: sed ab est est\n",
      "User ID: 6\n",
      "ID: 58\n",
      "Título: voluptatum itaque dolores nisi et quasi\n",
      "User ID: 6\n",
      "ID: 59\n",
      "Título: qui commodi dolor at maiores et quis id accusantium\n",
      "User ID: 6\n",
      "ID: 60\n",
      "Título: consequatur placeat omnis quisquam quia reprehenderit fugit veritatis facere\n",
      "User ID: 7\n",
      "ID: 61\n",
      "Título: voluptatem doloribus consectetur est ut ducimus\n",
      "User ID: 7\n",
      "ID: 62\n",
      "Título: beatae enim quia vel\n",
      "User ID: 7\n",
      "ID: 63\n",
      "Título: voluptas blanditiis repellendus animi ducimus error sapiente et suscipit\n",
      "User ID: 7\n",
      "ID: 64\n",
      "Título: et fugit quas eum in in aperiam quod\n",
      "User ID: 7\n",
      "ID: 65\n",
      "Título: consequatur id enim sunt et et\n",
      "User ID: 7\n",
      "ID: 66\n",
      "Título: repudiandae ea animi iusto\n",
      "User ID: 7\n",
      "ID: 67\n",
      "Título: aliquid eos sed fuga est maxime repellendus\n",
      "User ID: 7\n",
      "ID: 68\n",
      "Título: odio quis facere architecto reiciendis optio\n",
      "User ID: 7\n",
      "ID: 69\n",
      "Título: fugiat quod pariatur odit minima\n",
      "User ID: 7\n",
      "ID: 70\n",
      "Título: voluptatem laborum magni\n",
      "User ID: 8\n",
      "ID: 71\n",
      "Título: et iusto veniam et illum aut fuga\n",
      "User ID: 8\n",
      "ID: 72\n",
      "Título: sint hic doloribus consequatur eos non id\n",
      "User ID: 8\n",
      "ID: 73\n",
      "Título: consequuntur deleniti eos quia temporibus ab aliquid at\n",
      "User ID: 8\n",
      "ID: 74\n",
      "Título: enim unde ratione doloribus quas enim ut sit sapiente\n",
      "User ID: 8\n",
      "ID: 75\n",
      "Título: dignissimos eum dolor ut enim et delectus in\n",
      "User ID: 8\n",
      "ID: 76\n",
      "Título: doloremque officiis ad et non perferendis\n",
      "User ID: 8\n",
      "ID: 77\n",
      "Título: necessitatibus quasi exercitationem odio\n",
      "User ID: 8\n",
      "ID: 78\n",
      "Título: quam voluptatibus rerum veritatis\n",
      "User ID: 8\n",
      "ID: 79\n",
      "Título: pariatur consequatur quia magnam autem omnis non amet\n",
      "User ID: 8\n",
      "ID: 80\n",
      "Título: labore in ex et explicabo corporis aut quas\n",
      "User ID: 9\n",
      "ID: 81\n",
      "Título: tempora rem veritatis voluptas quo dolores vero\n",
      "User ID: 9\n",
      "ID: 82\n",
      "Título: laudantium voluptate suscipit sunt enim enim\n",
      "User ID: 9\n",
      "ID: 83\n",
      "Título: odit et voluptates doloribus alias odio et\n",
      "User ID: 9\n",
      "ID: 84\n",
      "Título: optio ipsam molestias necessitatibus occaecati facilis veritatis dolores aut\n",
      "User ID: 9\n",
      "ID: 85\n",
      "Título: dolore veritatis porro provident adipisci blanditiis et sunt\n",
      "User ID: 9\n",
      "ID: 86\n",
      "Título: placeat quia et porro iste\n",
      "User ID: 9\n",
      "ID: 87\n",
      "Título: nostrum quis quasi placeat\n",
      "User ID: 9\n",
      "ID: 88\n",
      "Título: sapiente omnis fugit eos\n",
      "User ID: 9\n",
      "ID: 89\n",
      "Título: sint soluta et vel magnam aut ut sed qui\n",
      "User ID: 9\n",
      "ID: 90\n",
      "Título: ad iusto omnis odit dolor voluptatibus\n",
      "User ID: 10\n",
      "ID: 91\n",
      "Título: aut amet sed\n",
      "User ID: 10\n",
      "ID: 92\n",
      "Título: ratione ex tenetur perferendis\n",
      "User ID: 10\n",
      "ID: 93\n",
      "Título: beatae soluta recusandae\n",
      "User ID: 10\n",
      "ID: 94\n",
      "Título: qui qui voluptates illo iste minima\n",
      "User ID: 10\n",
      "ID: 95\n",
      "Título: id minus libero illum nam ad officiis\n",
      "User ID: 10\n",
      "ID: 96\n",
      "Título: quaerat velit veniam amet cupiditate aut numquam ut sequi\n",
      "User ID: 10\n",
      "ID: 97\n",
      "Título: quas fugiat ut perspiciatis vero provident\n",
      "User ID: 10\n",
      "ID: 98\n",
      "Título: laboriosam dolor voluptates\n",
      "User ID: 10\n",
      "ID: 99\n",
      "Título: temporibus sit alias delectus eligendi possimus magni\n",
      "User ID: 10\n",
      "ID: 100\n",
      "Título: at nam consequatur ea labore ea harum\n"
     ]
    }
   ],
   "source": [
    "for posts in data:\n",
    "    print(f\"User ID: {posts['userId']}\\nID: {posts['id']}\\nTítulo: {posts['title']}\")"
   ]
  }
 ],
 "metadata": {
  "kernelspec": {
   "display_name": "Python 3 (ipykernel)",
   "language": "python",
   "name": "python3"
  },
  "language_info": {
   "codemirror_mode": {
    "name": "ipython",
    "version": 3
   },
   "file_extension": ".py",
   "mimetype": "text/x-python",
   "name": "python",
   "nbconvert_exporter": "python",
   "pygments_lexer": "ipython3",
   "version": "3.10.5"
  }
 },
 "nbformat": 4,
 "nbformat_minor": 5
}
