{
 "cells": [
  {
   "cell_type": "code",
   "execution_count": 1,
   "id": "104000c5-0ca8-4b01-9914-89b86042cde3",
   "metadata": {},
   "outputs": [],
   "source": [
    "# Transformando dados JSON em um formato Python"
   ]
  },
  {
   "cell_type": "code",
   "execution_count": 2,
   "id": "b836f1eb-8879-4714-a4e5-1884fcf1688b",
   "metadata": {},
   "outputs": [],
   "source": [
    "stringJsonData = '{\"name\": \"Zophie\", \"isCat\": true, \"miceCaught\": 0, \"felineIQ\": null}'"
   ]
  },
  {
   "cell_type": "code",
   "execution_count": 3,
   "id": "0ec12ee9-3806-4769-9d88-fa94806f63c8",
   "metadata": {},
   "outputs": [],
   "source": [
    "import json"
   ]
  },
  {
   "cell_type": "code",
   "execution_count": 4,
   "id": "5ba61ceb-adf3-4cf7-8bcf-ff611eebcd09",
   "metadata": {},
   "outputs": [],
   "source": [
    "jsonToPythonValue = json.loads(stringJsonData)"
   ]
  },
  {
   "cell_type": "code",
   "execution_count": 5,
   "id": "71682d6c-1bfd-4114-a052-c54eee493835",
   "metadata": {},
   "outputs": [
    {
     "data": {
      "text/plain": [
       "{'name': 'Zophie', 'isCat': True, 'miceCaught': 0, 'felineIQ': None}"
      ]
     },
     "execution_count": 5,
     "metadata": {},
     "output_type": "execute_result"
    }
   ],
   "source": [
    "jsonToPythonValue"
   ]
  },
  {
   "cell_type": "code",
   "execution_count": 6,
   "id": "3f0e85cf-1cb4-4c4f-9a8a-b6589d7b0c9c",
   "metadata": {},
   "outputs": [],
   "source": [
    "# String json se transformou em um dicionário Python, true -> True, null -> None"
   ]
  },
  {
   "cell_type": "code",
   "execution_count": 7,
   "id": "4d536c1d-b7e0-44d9-aa1b-3552940dfc64",
   "metadata": {},
   "outputs": [
    {
     "data": {
      "text/plain": [
       "dict"
      ]
     },
     "execution_count": 7,
     "metadata": {},
     "output_type": "execute_result"
    }
   ],
   "source": [
    "type(jsonToPythonValue)"
   ]
  },
  {
   "cell_type": "code",
   "execution_count": 8,
   "id": "104dfebc-a293-4835-ba89-547ed0f3c5fc",
   "metadata": {},
   "outputs": [],
   "source": [
    "# Transformando dados Python em formarto JSON"
   ]
  },
  {
   "cell_type": "code",
   "execution_count": 9,
   "id": "16ea959a-17da-4adc-a5f5-0d756b19cf20",
   "metadata": {},
   "outputs": [],
   "source": [
    "pythonValue = {\n",
    "    'isCat': True,\n",
    "    'miceCaught': 0,\n",
    "    'name': 'Zophie',\n",
    "    'felineIQ': None\n",
    "}"
   ]
  },
  {
   "cell_type": "code",
   "execution_count": 11,
   "id": "b4f8ddea-04fe-4c37-8eb3-a8302e32426e",
   "metadata": {},
   "outputs": [],
   "source": [
    "pythonToJson = json.dumps(pythonValue)"
   ]
  },
  {
   "cell_type": "code",
   "execution_count": 12,
   "id": "d637ad31-0ed2-4eaf-a061-93239c1976e2",
   "metadata": {},
   "outputs": [
    {
     "data": {
      "text/plain": [
       "str"
      ]
     },
     "execution_count": 12,
     "metadata": {},
     "output_type": "execute_result"
    }
   ],
   "source": [
    "type(pythonToJson)"
   ]
  },
  {
   "cell_type": "code",
   "execution_count": 13,
   "id": "a47988d6-eecb-493e-a11a-caed2c6927ca",
   "metadata": {},
   "outputs": [
    {
     "data": {
      "text/plain": [
       "'{\"isCat\": true, \"miceCaught\": 0, \"name\": \"Zophie\", \"felineIQ\": null}'"
      ]
     },
     "execution_count": 13,
     "metadata": {},
     "output_type": "execute_result"
    }
   ],
   "source": [
    "pythonToJson"
   ]
  },
  {
   "cell_type": "code",
   "execution_count": 14,
   "id": "5327dbd1-0c3b-4823-9198-c45711c33b38",
   "metadata": {},
   "outputs": [
    {
     "name": "stdout",
     "output_type": "stream",
     "text": [
      "{\"isCat\": true, \"miceCaught\": 0, \"name\": \"Zophie\", \"felineIQ\": null}\n"
     ]
    }
   ],
   "source": [
    "print(pythonToJson)"
   ]
  },
  {
   "cell_type": "code",
   "execution_count": null,
   "id": "d63b6a1c-d80f-4712-9e9e-5eacaedca33a",
   "metadata": {},
   "outputs": [],
   "source": []
  }
 ],
 "metadata": {
  "kernelspec": {
   "display_name": "Python 3 (ipykernel)",
   "language": "python",
   "name": "python3"
  },
  "language_info": {
   "codemirror_mode": {
    "name": "ipython",
    "version": 3
   },
   "file_extension": ".py",
   "mimetype": "text/x-python",
   "name": "python",
   "nbconvert_exporter": "python",
   "pygments_lexer": "ipython3",
   "version": "3.10.5"
  }
 },
 "nbformat": 4,
 "nbformat_minor": 5
}
