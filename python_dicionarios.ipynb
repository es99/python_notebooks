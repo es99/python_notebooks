{
 "cells": [
  {
   "cell_type": "code",
   "execution_count": null,
   "id": "d6f776d3-06f3-4289-a319-1b42613b0117",
   "metadata": {},
   "outputs": [],
   "source": []
  },
  {
   "cell_type": "code",
   "execution_count": 3,
   "id": "dea100f2-01ee-4bd9-8047-5eadca2b02f3",
   "metadata": {},
   "outputs": [],
   "source": [
    "pessoa = {\n",
    "    \"nome\": \"Gabriel\",\n",
    "    \"idade\": 27,\n",
    "    \"profissão\": \"Analista de Sistemas\"\n",
    "}"
   ]
  },
  {
   "cell_type": "code",
   "execution_count": 4,
   "id": "b91cd460-abba-439d-9185-5e5cb0878921",
   "metadata": {},
   "outputs": [
    {
     "name": "stdout",
     "output_type": "stream",
     "text": [
      "{'nome': 'Gabriel', 'idade': 27, 'profissão': 'Analista de Sistemas'}\n"
     ]
    }
   ],
   "source": [
    "print(pessoa)"
   ]
  },
  {
   "cell_type": "code",
   "execution_count": 5,
   "id": "8eca9346-bf4a-4257-91e1-d387413d6883",
   "metadata": {},
   "outputs": [
    {
     "data": {
      "text/plain": [
       "dict"
      ]
     },
     "execution_count": 5,
     "metadata": {},
     "output_type": "execute_result"
    }
   ],
   "source": [
    "type(pessoa)"
   ]
  },
  {
   "cell_type": "code",
   "execution_count": 10,
   "id": "a0336958-85a6-40c6-9462-f42b9de4fdab",
   "metadata": {},
   "outputs": [],
   "source": [
    "# O método get() é mais seguro ao retornar os itens do dicionário pois ele não gera erros se o a chave (key) não existir,\n",
    "# apenas retorna None."
   ]
  },
  {
   "cell_type": "code",
   "execution_count": 11,
   "id": "2d5d5456-04d9-4d57-aef2-37fced195886",
   "metadata": {},
   "outputs": [
    {
     "name": "stdout",
     "output_type": "stream",
     "text": [
      "None\n"
     ]
    }
   ],
   "source": [
    "print(pessoa.get('sexo'))"
   ]
  },
  {
   "cell_type": "code",
   "execution_count": 12,
   "id": "f0ec7937-17e9-4a24-b49c-cd69e86fe042",
   "metadata": {},
   "outputs": [
    {
     "name": "stdout",
     "output_type": "stream",
     "text": [
      "Este índice não existe\n"
     ]
    }
   ],
   "source": [
    "if pessoa.get('sexo'):\n",
    "    print(pessoa['sexo'])\n",
    "else:\n",
    "    print('Este índice não existe')"
   ]
  },
  {
   "cell_type": "code",
   "execution_count": 13,
   "id": "552c2752-6c3c-43b9-a28a-e6ec13704f66",
   "metadata": {},
   "outputs": [],
   "source": [
    "# Em dicionários não importa a ordem dos pares chave-valor para determinar se são iguais"
   ]
  },
  {
   "cell_type": "code",
   "execution_count": 14,
   "id": "2ac3f9aa-48e0-489c-a25a-5a23642e33f0",
   "metadata": {},
   "outputs": [],
   "source": [
    "eggs = {'name': 'Zophie', 'species': 'cat', 'age': 8}\n",
    "ham = {'species': 'cat', 'age': 8, 'name': 'Zophie'}"
   ]
  },
  {
   "cell_type": "code",
   "execution_count": 15,
   "id": "8e3f713f-d519-404a-bf0e-95cbb259d450",
   "metadata": {},
   "outputs": [
    {
     "data": {
      "text/plain": [
       "True"
      ]
     },
     "execution_count": 15,
     "metadata": {},
     "output_type": "execute_result"
    }
   ],
   "source": [
    "eggs == ham"
   ]
  },
  {
   "cell_type": "code",
   "execution_count": 16,
   "id": "26d4c9b5-b4fe-4783-ae91-f7f9481e3ac8",
   "metadata": {},
   "outputs": [],
   "source": [
    "# Em lista a ordem dos valores importa para verificar a igualdade das listas"
   ]
  },
  {
   "cell_type": "code",
   "execution_count": 18,
   "id": "ba416a1d-4e9a-4d1b-92df-7daaaa566259",
   "metadata": {},
   "outputs": [],
   "source": [
    "lista1 = ['Engels', 'Alessandra', 'Nico']\n",
    "lista2 = ['Alessandra', 'Nico', 'Engels']"
   ]
  },
  {
   "cell_type": "code",
   "execution_count": 19,
   "id": "9601059b-cc61-416f-b6d9-3cc48a1cca5f",
   "metadata": {},
   "outputs": [
    {
     "data": {
      "text/plain": [
       "False"
      ]
     },
     "execution_count": 19,
     "metadata": {},
     "output_type": "execute_result"
    }
   ],
   "source": [
    "lista1 == lista2"
   ]
  },
  {
   "cell_type": "code",
   "execution_count": 20,
   "id": "54741a07-40d0-49f0-9d27-d9a8c2a6a145",
   "metadata": {},
   "outputs": [],
   "source": [
    "lista3 = ['Engels', 'Alessandra', 'Nico']\n",
    "lista4 = ['Engels', 'Alessandra', 'Nico']"
   ]
  },
  {
   "cell_type": "code",
   "execution_count": 21,
   "id": "695c9b32-8a3d-4427-ba22-45b239eaf392",
   "metadata": {},
   "outputs": [
    {
     "data": {
      "text/plain": [
       "True"
      ]
     },
     "execution_count": 21,
     "metadata": {},
     "output_type": "execute_result"
    }
   ],
   "source": [
    "lista3 == lista4"
   ]
  },
  {
   "cell_type": "code",
   "execution_count": 22,
   "id": "5ee281de-88eb-4647-86b6-6ab3b1ac8dff",
   "metadata": {},
   "outputs": [
    {
     "name": "stdout",
     "output_type": "stream",
     "text": [
      "Escreva seu nome: \n"
     ]
    },
    {
     "name": "stdin",
     "output_type": "stream",
     "text": [
      " Engels\n"
     ]
    },
    {
     "name": "stdout",
     "output_type": "stream",
     "text": [
      "Engels\n"
     ]
    }
   ],
   "source": [
    "print('Escreva seu nome: ')\n",
    "name = input()\n",
    "print(name)"
   ]
  },
  {
   "cell_type": "code",
   "execution_count": 23,
   "id": "45c6a557-64be-4098-9a6a-4ba10954f4df",
   "metadata": {},
   "outputs": [],
   "source": [
    "aniversarios = {\n",
    "    'Engels': '09 de Junho - 1987',\n",
    "    'Alessandra': '24 de Abril - 1978',\n",
    "    'Kaoue': '25 de Junho - 1991'\n",
    "}"
   ]
  },
  {
   "cell_type": "code",
   "execution_count": 26,
   "id": "3dd05a69-a8b9-4fbb-bf57-43d8e06aa62a",
   "metadata": {},
   "outputs": [
    {
     "name": "stdout",
     "output_type": "stream",
     "text": [
      "Enter a name: (blank do quit)\n"
     ]
    },
    {
     "name": "stdin",
     "output_type": "stream",
     "text": [
      " Elenilza\n"
     ]
    },
    {
     "name": "stdout",
     "output_type": "stream",
     "text": [
      "Eu não tenho informacoes de niver de Elenilza\n",
      "Quando é o aniversario dela?\n"
     ]
    },
    {
     "name": "stdin",
     "output_type": "stream",
     "text": [
      " 18 de Janeiro - 1960\n"
     ]
    },
    {
     "name": "stdout",
     "output_type": "stream",
     "text": [
      "aniversarios atualizados\n",
      "Enter a name: (blank do quit)\n"
     ]
    },
    {
     "name": "stdin",
     "output_type": "stream",
     "text": [
      " \n"
     ]
    },
    {
     "name": "stdout",
     "output_type": "stream",
     "text": [
      "{'Engels': '09 de Junho - 1987', 'Alessandra': '24 de Abril - 1978', 'Kaoue': '25 de Junho - 1991', 'Elenilza': '18 de Janeiro - 1960'}\n"
     ]
    }
   ],
   "source": [
    "while True:\n",
    "    print('Enter a name: (blank do quit)')\n",
    "    name = input()\n",
    "    if name == '':\n",
    "        break\n",
    "        \n",
    "    if name in aniversarios:\n",
    "        print(aniversarios[name] + ' é a data de niver de ' + name)\n",
    "    else:\n",
    "        print('Eu não tenho informacoes de niver de ' + name)\n",
    "        print('Quando é o aniversario dela?')\n",
    "        bday = input()\n",
    "        aniversarios[name] = bday\n",
    "        print('aniversarios atualizados')\n",
    "        \n",
    "print(aniversarios)"
   ]
  },
  {
   "cell_type": "code",
   "execution_count": 28,
   "id": "d8255882-e987-4f53-875a-a34c65c7eb7f",
   "metadata": {},
   "outputs": [
    {
     "name": "stdout",
     "output_type": "stream",
     "text": [
      "Chave: \n"
     ]
    },
    {
     "name": "stdin",
     "output_type": "stream",
     "text": [
      " Engels\n"
     ]
    },
    {
     "name": "stdout",
     "output_type": "stream",
     "text": [
      "09 de Junho - 1987\n",
      "Chave: \n"
     ]
    },
    {
     "name": "stdin",
     "output_type": "stream",
     "text": [
      " \n"
     ]
    },
    {
     "name": "stdout",
     "output_type": "stream",
     "text": [
      "{'Engels': '09 de Junho - 1987', 'Alessandra': '24 de Abril - 1978', 'Kaoue': '25 de Junho - 1991', 'Elenilza': '18 de Janeiro - 1960', 'ana': '25 de Março - 1986'}\n"
     ]
    }
   ],
   "source": [
    "while True:\n",
    "    print('Chave: ')\n",
    "    chave = input()\n",
    "    if chave == '':\n",
    "        break\n",
    "    if aniversarios.get(chave):\n",
    "        print(aniversarios[chave])\n",
    "    else:\n",
    "        print('data de aniversario: ')\n",
    "        niver = input()\n",
    "        aniversarios[chave] = niver\n",
    "        print('aniversarios atualizados')\n",
    "        \n",
    "print(aniversarios)"
   ]
  },
  {
   "cell_type": "code",
   "execution_count": 29,
   "id": "2c2978c0-87ba-4c90-9602-fd673a10c66f",
   "metadata": {},
   "outputs": [],
   "source": [
    "# dict.keys(), dict.values(), dict.items() - laços for"
   ]
  },
  {
   "cell_type": "code",
   "execution_count": 30,
   "id": "dc00295b-d920-4ae9-b12c-d0d56b1b4094",
   "metadata": {},
   "outputs": [],
   "source": [
    "spam = {'color': 'red', 'age': 42}"
   ]
  },
  {
   "cell_type": "code",
   "execution_count": 31,
   "id": "4b63f080-6ae9-44f7-a37b-b93e825d935c",
   "metadata": {},
   "outputs": [
    {
     "name": "stdout",
     "output_type": "stream",
     "text": [
      "red\n",
      "42\n"
     ]
    }
   ],
   "source": [
    "for v in spam.values():\n",
    "    print(v)"
   ]
  },
  {
   "cell_type": "code",
   "execution_count": 33,
   "id": "02e51e46-5cf6-40d0-977c-459ff06c5437",
   "metadata": {},
   "outputs": [
    {
     "name": "stdout",
     "output_type": "stream",
     "text": [
      "color\n",
      "age\n"
     ]
    }
   ],
   "source": [
    "for k in spam.keys():\n",
    "    print(k)"
   ]
  },
  {
   "cell_type": "code",
   "execution_count": 34,
   "id": "f0d4f927-f0b2-443f-8d74-f3c2148effbf",
   "metadata": {},
   "outputs": [
    {
     "name": "stdout",
     "output_type": "stream",
     "text": [
      "('color', 'red')\n",
      "('age', 42)\n"
     ]
    }
   ],
   "source": [
    "for i in spam.items():\n",
    "    print(i)"
   ]
  },
  {
   "cell_type": "code",
   "execution_count": 35,
   "id": "b31f4f8a-7b76-4b2f-8f13-fb74386b48c9",
   "metadata": {},
   "outputs": [
    {
     "data": {
      "text/plain": [
       "dict_keys(['color', 'age'])"
      ]
     },
     "execution_count": 35,
     "metadata": {},
     "output_type": "execute_result"
    }
   ],
   "source": [
    "spam.keys()"
   ]
  },
  {
   "cell_type": "code",
   "execution_count": 36,
   "id": "d1aaa2cb-0fc8-4a18-a4f3-5fc06069e58f",
   "metadata": {},
   "outputs": [
    {
     "data": {
      "text/plain": [
       "dict_values(['red', 42])"
      ]
     },
     "execution_count": 36,
     "metadata": {},
     "output_type": "execute_result"
    }
   ],
   "source": [
    "spam.values()"
   ]
  },
  {
   "cell_type": "code",
   "execution_count": 37,
   "id": "f6260260-720f-4599-94c2-a5343272072a",
   "metadata": {},
   "outputs": [
    {
     "data": {
      "text/plain": [
       "dict_items([('color', 'red'), ('age', 42)])"
      ]
     },
     "execution_count": 37,
     "metadata": {},
     "output_type": "execute_result"
    }
   ],
   "source": [
    "spam.items()"
   ]
  },
  {
   "cell_type": "code",
   "execution_count": 38,
   "id": "dd61045a-8777-4a98-9736-b202111bf286",
   "metadata": {},
   "outputs": [],
   "source": [
    "lista = list(spam.keys())"
   ]
  },
  {
   "cell_type": "code",
   "execution_count": 39,
   "id": "3c633152-2172-4d08-9fb8-25c611f4cc16",
   "metadata": {},
   "outputs": [
    {
     "data": {
      "text/plain": [
       "['color', 'age']"
      ]
     },
     "execution_count": 39,
     "metadata": {},
     "output_type": "execute_result"
    }
   ],
   "source": [
    "lista"
   ]
  },
  {
   "cell_type": "code",
   "execution_count": 40,
   "id": "6136783f-d369-49af-ba26-826e900ccb0e",
   "metadata": {},
   "outputs": [],
   "source": [
    "nome, sobrenome = 'Engels', 'Souza'"
   ]
  },
  {
   "cell_type": "code",
   "execution_count": 41,
   "id": "c4954203-c6b0-46d3-849f-7b0effdefc02",
   "metadata": {},
   "outputs": [
    {
     "name": "stdout",
     "output_type": "stream",
     "text": [
      "Engels\n"
     ]
    }
   ],
   "source": [
    "print(nome)"
   ]
  },
  {
   "cell_type": "code",
   "execution_count": 42,
   "id": "edac7fd7-87a0-4226-9f5b-3f490d67f1f9",
   "metadata": {},
   "outputs": [
    {
     "name": "stdout",
     "output_type": "stream",
     "text": [
      "Souza\n"
     ]
    }
   ],
   "source": [
    "print(sobrenome)"
   ]
  },
  {
   "cell_type": "code",
   "execution_count": 43,
   "id": "2b5b16c1-84f5-4435-b247-8da4f3632bfa",
   "metadata": {},
   "outputs": [],
   "source": [
    "# Truque da atribuição multipla utilizando tuplas"
   ]
  },
  {
   "cell_type": "code",
   "execution_count": 45,
   "id": "01100581-92f2-4b7a-b487-a180f5f42941",
   "metadata": {},
   "outputs": [
    {
     "name": "stdout",
     "output_type": "stream",
     "text": [
      "Chave: color Valor: red\n",
      "Chave: age Valor: 42\n"
     ]
    }
   ],
   "source": [
    "for k, v in spam.items():\n",
    "    print('Chave: ' + k + ' Valor: ' + str(v))"
   ]
  },
  {
   "cell_type": "code",
   "execution_count": 46,
   "id": "f515328c-2758-481e-98c0-2519ec360c3a",
   "metadata": {},
   "outputs": [],
   "source": [
    "# 'in' & 'not in' para verificar a existencia de valores, chaves em dicionarios"
   ]
  },
  {
   "cell_type": "code",
   "execution_count": 47,
   "id": "1059dd36-f628-4e07-a855-e83d150ca500",
   "metadata": {},
   "outputs": [],
   "source": [
    "spam = {'name': 'Zophie', 'age': 7}"
   ]
  },
  {
   "cell_type": "code",
   "execution_count": 48,
   "id": "f3a12110-aaf2-4d12-818a-56b1ff0ca1ee",
   "metadata": {},
   "outputs": [
    {
     "data": {
      "text/plain": [
       "True"
      ]
     },
     "execution_count": 48,
     "metadata": {},
     "output_type": "execute_result"
    }
   ],
   "source": [
    "'name' in spam.keys()"
   ]
  },
  {
   "cell_type": "code",
   "execution_count": 49,
   "id": "088483ff-aee0-4e94-bc92-a32b5a877418",
   "metadata": {},
   "outputs": [
    {
     "data": {
      "text/plain": [
       "True"
      ]
     },
     "execution_count": 49,
     "metadata": {},
     "output_type": "execute_result"
    }
   ],
   "source": [
    "'Zophie' in spam.values()"
   ]
  },
  {
   "cell_type": "code",
   "execution_count": 50,
   "id": "523d6eed-b1ef-4c35-ab5c-14737881daaf",
   "metadata": {},
   "outputs": [
    {
     "data": {
      "text/plain": [
       "False"
      ]
     },
     "execution_count": 50,
     "metadata": {},
     "output_type": "execute_result"
    }
   ],
   "source": [
    "'color' in spam.keys()"
   ]
  },
  {
   "cell_type": "code",
   "execution_count": 51,
   "id": "159ab4a6-331c-4936-9129-2cd4c739c63b",
   "metadata": {},
   "outputs": [
    {
     "data": {
      "text/plain": [
       "True"
      ]
     },
     "execution_count": 51,
     "metadata": {},
     "output_type": "execute_result"
    }
   ],
   "source": [
    "'color' not in spam.keys()"
   ]
  },
  {
   "cell_type": "code",
   "execution_count": 52,
   "id": "e5ea1b70-fc3b-49f7-b45a-829b6cd2b2b4",
   "metadata": {},
   "outputs": [
    {
     "data": {
      "text/plain": [
       "True"
      ]
     },
     "execution_count": 52,
     "metadata": {},
     "output_type": "execute_result"
    }
   ],
   "source": [
    "'name' in spam"
   ]
  },
  {
   "cell_type": "code",
   "execution_count": 54,
   "id": "d6e67d77-6786-48a1-a8a9-9e57df7b50c1",
   "metadata": {},
   "outputs": [],
   "source": [
    "# 'name' in spam é apenas uma versão mais contida de: 'name' in spam.keys()"
   ]
  },
  {
   "cell_type": "code",
   "execution_count": 55,
   "id": "191c364c-578b-4f04-bb74-7559cc45949d",
   "metadata": {},
   "outputs": [],
   "source": [
    "# Método get()"
   ]
  },
  {
   "cell_type": "code",
   "execution_count": 56,
   "id": "f221d7df-e869-481c-bb44-e359b7c4fb07",
   "metadata": {},
   "outputs": [],
   "source": [
    "picnicItems = {'apples': 5, 'cups': 2}"
   ]
  },
  {
   "cell_type": "code",
   "execution_count": 58,
   "id": "039bf6db-5031-4d5c-a6ae-356e7670c8ca",
   "metadata": {},
   "outputs": [
    {
     "name": "stdout",
     "output_type": "stream",
     "text": [
      "Eu trouxe 2 cups\n"
     ]
    }
   ],
   "source": [
    "print('Eu trouxe ' + str(picnicItems.get('cups', 0)) + ' cups')"
   ]
  },
  {
   "cell_type": "code",
   "execution_count": 59,
   "id": "a0d8fd1b-572c-42a4-9dc1-64017ddb28f3",
   "metadata": {},
   "outputs": [
    {
     "name": "stdout",
     "output_type": "stream",
     "text": [
      "Eu trouxe 0 ovos\n"
     ]
    }
   ],
   "source": [
    "print('Eu trouxe ' + str(picnicItems.get('eggs', 0)) + ' ovos')"
   ]
  },
  {
   "cell_type": "code",
   "execution_count": 61,
   "id": "3a00c839-f7bb-4069-85dc-38e6257512c7",
   "metadata": {},
   "outputs": [
    {
     "name": "stdout",
     "output_type": "stream",
     "text": [
      "None\n"
     ]
    }
   ],
   "source": [
    "print(picnicItems.get('eggs'))"
   ]
  },
  {
   "cell_type": "code",
   "execution_count": 62,
   "id": "a56f2272-42a3-41e3-94e1-3ae93ecf5caa",
   "metadata": {},
   "outputs": [
    {
     "name": "stdout",
     "output_type": "stream",
     "text": [
      "0\n"
     ]
    }
   ],
   "source": [
    "print(picnicItems.get('eggs', 0))"
   ]
  },
  {
   "cell_type": "code",
   "execution_count": 63,
   "id": "696cdf62-e3c1-4bbf-8cca-1184a76c2aea",
   "metadata": {},
   "outputs": [
    {
     "name": "stdout",
     "output_type": "stream",
     "text": [
      "Key not exist\n"
     ]
    }
   ],
   "source": [
    "print(picnicItems.get('eggs', 'Key not exist'))"
   ]
  },
  {
   "cell_type": "code",
   "execution_count": 64,
   "id": "2e03800a-63ef-4f93-9362-2fc82a50ee7e",
   "metadata": {},
   "outputs": [],
   "source": [
    "# setdefault()"
   ]
  },
  {
   "cell_type": "code",
   "execution_count": 65,
   "id": "f7e638d3-70a5-42b1-bbd0-70c029f01285",
   "metadata": {},
   "outputs": [],
   "source": [
    "spam = {'name': 'Pooka', 'age': 5}"
   ]
  },
  {
   "cell_type": "code",
   "execution_count": 66,
   "id": "5e573aef-b163-42a6-a623-ac2da181ee67",
   "metadata": {},
   "outputs": [],
   "source": [
    "if 'color' not in spam:\n",
    "    spam['color'] = 'black'"
   ]
  },
  {
   "cell_type": "code",
   "execution_count": 67,
   "id": "cbd058ef-175b-4852-973c-12094cd2c502",
   "metadata": {},
   "outputs": [
    {
     "data": {
      "text/plain": [
       "{'name': 'Pooka', 'age': 5, 'color': 'black'}"
      ]
     },
     "execution_count": 67,
     "metadata": {},
     "output_type": "execute_result"
    }
   ],
   "source": [
    "spam"
   ]
  },
  {
   "cell_type": "code",
   "execution_count": 68,
   "id": "a2ab2469-88c0-433f-b1d0-2a288798ae0b",
   "metadata": {},
   "outputs": [],
   "source": [
    "eggs = {'name': 'Pooka', 'age': 5}"
   ]
  },
  {
   "cell_type": "code",
   "execution_count": 69,
   "id": "682df4b9-744a-4c30-bc29-48e3292cbbd5",
   "metadata": {},
   "outputs": [
    {
     "data": {
      "text/plain": [
       "'black'"
      ]
     },
     "execution_count": 69,
     "metadata": {},
     "output_type": "execute_result"
    }
   ],
   "source": [
    "spam.setdefault('color', 'black')"
   ]
  },
  {
   "cell_type": "code",
   "execution_count": 70,
   "id": "e68711c7-a7c7-4644-bd8a-4559eda1d62b",
   "metadata": {},
   "outputs": [
    {
     "data": {
      "text/plain": [
       "{'name': 'Pooka', 'age': 5}"
      ]
     },
     "execution_count": 70,
     "metadata": {},
     "output_type": "execute_result"
    }
   ],
   "source": [
    "eggs"
   ]
  },
  {
   "cell_type": "code",
   "execution_count": 71,
   "id": "28310dda-7386-489d-8682-a8e8c2044d8a",
   "metadata": {},
   "outputs": [
    {
     "data": {
      "text/plain": [
       "'black'"
      ]
     },
     "execution_count": 71,
     "metadata": {},
     "output_type": "execute_result"
    }
   ],
   "source": [
    "eggs.setdefault('color', 'black')"
   ]
  },
  {
   "cell_type": "code",
   "execution_count": 72,
   "id": "60b28ceb-db28-46eb-bba3-ce0bce35dd0f",
   "metadata": {},
   "outputs": [
    {
     "data": {
      "text/plain": [
       "{'name': 'Pooka', 'age': 5, 'color': 'black'}"
      ]
     },
     "execution_count": 72,
     "metadata": {},
     "output_type": "execute_result"
    }
   ],
   "source": [
    "eggs"
   ]
  },
  {
   "cell_type": "code",
   "execution_count": 74,
   "id": "a25dc1e4-e437-465f-b7e1-82912bedf96c",
   "metadata": {},
   "outputs": [
    {
     "data": {
      "text/plain": [
       "'black'"
      ]
     },
     "execution_count": 74,
     "metadata": {},
     "output_type": "execute_result"
    }
   ],
   "source": [
    "eggs.setdefault('color','white')"
   ]
  },
  {
   "cell_type": "code",
   "execution_count": 75,
   "id": "f9a917ec-d338-4236-b215-7e86f02f8000",
   "metadata": {},
   "outputs": [
    {
     "data": {
      "text/plain": [
       "{'name': 'Pooka', 'age': 5, 'color': 'black'}"
      ]
     },
     "execution_count": 75,
     "metadata": {},
     "output_type": "execute_result"
    }
   ],
   "source": [
    "eggs"
   ]
  },
  {
   "cell_type": "code",
   "execution_count": 76,
   "id": "af2ec8cf-8609-4d78-91dc-5b1aefc93035",
   "metadata": {},
   "outputs": [],
   "source": [
    "# Script que conta cada letra de uma string utilizando o setdefault"
   ]
  },
  {
   "cell_type": "code",
   "execution_count": 79,
   "id": "8147d9b6-1a76-49e7-abaa-16744813f98f",
   "metadata": {},
   "outputs": [],
   "source": [
    "message = \"Eu espero que Lula ganhe essas eleições em 2022\"\n",
    "count = {}\n",
    "\n",
    "for c in message:\n",
    "    count.setdefault(c, 0)\n",
    "    count[c] = count[c] + 1"
   ]
  },
  {
   "cell_type": "code",
   "execution_count": 80,
   "id": "8c76cf88-a849-47a3-8673-ffaf8c63610c",
   "metadata": {},
   "outputs": [
    {
     "name": "stdout",
     "output_type": "stream",
     "text": [
      "{'E': 1, 'u': 3, ' ': 8, 'e': 9, 's': 5, 'p': 1, 'r': 1, 'o': 1, 'q': 1, 'L': 1, 'l': 2, 'a': 3, 'g': 1, 'n': 1, 'h': 1, 'i': 1, 'ç': 1, 'õ': 1, 'm': 1, '2': 3, '0': 1}\n"
     ]
    }
   ],
   "source": [
    "print(count)"
   ]
  },
  {
   "cell_type": "code",
   "execution_count": 1,
   "id": "08e629b2-17e4-4262-8715-8d6510c1e5f6",
   "metadata": {},
   "outputs": [],
   "source": [
    "# Removendo itens do dicionário"
   ]
  },
  {
   "cell_type": "code",
   "execution_count": 2,
   "id": "0c30fc24-5217-47b6-bc07-04d6e682a805",
   "metadata": {},
   "outputs": [],
   "source": [
    "personagem = {'altura': 1.73, 'peso': 75, 'sexo': 'masculino'}"
   ]
  },
  {
   "cell_type": "code",
   "execution_count": 3,
   "id": "1e2a093b-abc9-43d4-86c8-6b37a5424b34",
   "metadata": {},
   "outputs": [
    {
     "data": {
      "text/plain": [
       "1.73"
      ]
     },
     "execution_count": 3,
     "metadata": {},
     "output_type": "execute_result"
    }
   ],
   "source": [
    "personagem.pop('altura')"
   ]
  },
  {
   "cell_type": "code",
   "execution_count": 4,
   "id": "c0a4501e-ccda-47ca-9a06-184b480553a1",
   "metadata": {},
   "outputs": [
    {
     "data": {
      "text/plain": [
       "{'peso': 75, 'sexo': 'masculino'}"
      ]
     },
     "execution_count": 4,
     "metadata": {},
     "output_type": "execute_result"
    }
   ],
   "source": [
    "personagem"
   ]
  },
  {
   "cell_type": "code",
   "execution_count": 5,
   "id": "c7dd4351-1108-4303-8127-c723c4c13246",
   "metadata": {},
   "outputs": [],
   "source": [
    "personagem['altura'] = 1.50"
   ]
  },
  {
   "cell_type": "code",
   "execution_count": 6,
   "id": "150eb754-d7cc-45df-ac9c-74d4624ceadc",
   "metadata": {},
   "outputs": [
    {
     "data": {
      "text/plain": [
       "{'peso': 75, 'sexo': 'masculino', 'altura': 1.5}"
      ]
     },
     "execution_count": 6,
     "metadata": {},
     "output_type": "execute_result"
    }
   ],
   "source": [
    "personagem"
   ]
  },
  {
   "cell_type": "code",
   "execution_count": 7,
   "id": "ed69f95e-4921-495f-ad15-bfaf81608393",
   "metadata": {},
   "outputs": [],
   "source": [
    "item_removido = personagem.pop('sexo')"
   ]
  },
  {
   "cell_type": "code",
   "execution_count": 8,
   "id": "f0a81e8c-5e07-42e0-b97f-b924d0ef58ef",
   "metadata": {},
   "outputs": [
    {
     "name": "stdout",
     "output_type": "stream",
     "text": [
      "masculino\n"
     ]
    }
   ],
   "source": [
    "print(item_removido)"
   ]
  },
  {
   "cell_type": "code",
   "execution_count": 9,
   "id": "86fc46a5-bb2a-4b4d-9548-4b3023a25a99",
   "metadata": {},
   "outputs": [
    {
     "data": {
      "text/plain": [
       "{'peso': 75, 'altura': 1.5}"
      ]
     },
     "execution_count": 9,
     "metadata": {},
     "output_type": "execute_result"
    }
   ],
   "source": [
    "personagem"
   ]
  },
  {
   "cell_type": "code",
   "execution_count": 10,
   "id": "28a2dddc-51a8-4ec4-820e-1373f947dcd2",
   "metadata": {},
   "outputs": [
    {
     "data": {
      "text/plain": [
       "('altura', 1.5)"
      ]
     },
     "execution_count": 10,
     "metadata": {},
     "output_type": "execute_result"
    }
   ],
   "source": [
    "personagem.popitem()"
   ]
  },
  {
   "cell_type": "code",
   "execution_count": 11,
   "id": "0ee156c4-8803-4acf-ba75-7b490ea1046a",
   "metadata": {},
   "outputs": [
    {
     "name": "stdout",
     "output_type": "stream",
     "text": [
      "{'peso': 75}\n"
     ]
    }
   ],
   "source": [
    "print(personagem)"
   ]
  },
  {
   "cell_type": "code",
   "execution_count": 13,
   "id": "fb2adebb-416a-4ed6-b73b-51340c4f191b",
   "metadata": {},
   "outputs": [],
   "source": [
    "# usando a palavra-chave del"
   ]
  },
  {
   "cell_type": "code",
   "execution_count": 14,
   "id": "8da4fa55-abbd-4127-bb94-cc44138c77be",
   "metadata": {},
   "outputs": [],
   "source": [
    "dicionario = {'k1': \"a\", 'k2': \"b\"}"
   ]
  },
  {
   "cell_type": "code",
   "execution_count": 15,
   "id": "027c4ce2-0096-4955-b860-b4bb994844f4",
   "metadata": {},
   "outputs": [
    {
     "name": "stdout",
     "output_type": "stream",
     "text": [
      "{'k2': 'b'}\n"
     ]
    }
   ],
   "source": [
    "del dicionario['k1']\n",
    "print(dicionario)"
   ]
  },
  {
   "cell_type": "code",
   "execution_count": 16,
   "id": "c30c6ec4-abac-4eb3-9430-052a0f4da840",
   "metadata": {},
   "outputs": [],
   "source": [
    "# obs: deletando o dicionario por completo"
   ]
  },
  {
   "cell_type": "code",
   "execution_count": 17,
   "id": "0a181e4e-a1aa-430a-a8d8-b1f76dba6eb9",
   "metadata": {},
   "outputs": [],
   "source": [
    "del dicionario"
   ]
  },
  {
   "cell_type": "code",
   "execution_count": 19,
   "id": "041cfd41-c39f-4325-b10a-081970e4d198",
   "metadata": {},
   "outputs": [
    {
     "ename": "NameError",
     "evalue": "name 'dicionario' is not defined",
     "output_type": "error",
     "traceback": [
      "\u001b[0;31m---------------------------------------------------------------------------\u001b[0m",
      "\u001b[0;31mNameError\u001b[0m                                 Traceback (most recent call last)",
      "Input \u001b[0;32mIn [19]\u001b[0m, in \u001b[0;36m<cell line: 1>\u001b[0;34m()\u001b[0m\n\u001b[0;32m----> 1\u001b[0m \u001b[38;5;28mprint\u001b[39m(\u001b[43mdicionario\u001b[49m)\n",
      "\u001b[0;31mNameError\u001b[0m: name 'dicionario' is not defined"
     ]
    }
   ],
   "source": [
    "print(dicionario) #ERRO, o dicionário (após deletado com del) não existe."
   ]
  },
  {
   "cell_type": "code",
   "execution_count": 20,
   "id": "c242a74b-dae8-481e-9de7-6826ff114595",
   "metadata": {},
   "outputs": [],
   "source": [
    "# construtor dict"
   ]
  },
  {
   "cell_type": "code",
   "execution_count": 21,
   "id": "62eb0a87-3d4e-4afd-8387-b22a2af36a93",
   "metadata": {},
   "outputs": [],
   "source": [
    "pessoa = dict(nome='Pedro', idade=19)\n",
    "lista_compras = dict(laranja=1, melancia=3, batata_doce=2, frango=1)"
   ]
  },
  {
   "cell_type": "code",
   "execution_count": 22,
   "id": "72dc403b-feb1-44e6-813d-dc3a411c4b8b",
   "metadata": {},
   "outputs": [
    {
     "name": "stdout",
     "output_type": "stream",
     "text": [
      "{'nome': 'Pedro', 'idade': 19}\n",
      "{'laranja': 1, 'melancia': 3, 'batata_doce': 2, 'frango': 1}\n"
     ]
    }
   ],
   "source": [
    "print(pessoa)\n",
    "print(lista_compras)"
   ]
  },
  {
   "cell_type": "code",
   "execution_count": 23,
   "id": "9c0f36dd-3e0f-45d3-af40-c3381686a165",
   "metadata": {},
   "outputs": [],
   "source": [
    "# método clear esvazia o dicionário"
   ]
  },
  {
   "cell_type": "code",
   "execution_count": 24,
   "id": "49544f42-530d-4cbb-92ef-a7e9973dfe62",
   "metadata": {},
   "outputs": [],
   "source": [
    "pessoa.clear()"
   ]
  },
  {
   "cell_type": "code",
   "execution_count": 25,
   "id": "2effefa7-2bde-4d96-a8d7-fee69997c464",
   "metadata": {},
   "outputs": [
    {
     "name": "stdout",
     "output_type": "stream",
     "text": [
      "{}\n"
     ]
    }
   ],
   "source": [
    "print(pessoa)"
   ]
  },
  {
   "cell_type": "code",
   "execution_count": 26,
   "id": "437a46df-b77d-4cb2-b86b-c16fd0b769fc",
   "metadata": {},
   "outputs": [
    {
     "name": "stdout",
     "output_type": "stream",
     "text": [
      "{}\n"
     ]
    }
   ],
   "source": [
    "lista_compras.clear()\n",
    "print(lista_compras)"
   ]
  },
  {
   "cell_type": "code",
   "execution_count": 39,
   "id": "c9f89982-44fb-4721-b0e5-81ff0a99d1f4",
   "metadata": {},
   "outputs": [],
   "source": [
    "# Python zip() Function\n",
    "# retorna um objeto zip() é um iterador de tuplas\n",
    "# Se os iteradores passados tiverem comprimentos diferentes, o iterador com menos itens decide o comprimento do novo iterador."
   ]
  },
  {
   "cell_type": "code",
   "execution_count": 33,
   "id": "85f946e4-b644-4041-8ae2-f738ebcc78c0",
   "metadata": {},
   "outputs": [],
   "source": [
    "a = (\"John\", \"Charles\", \"Mike\")\n",
    "b = (\"Jenny\", \"Christy\", \"Monica\")\n",
    "\n",
    "x = zip(a, b)"
   ]
  },
  {
   "cell_type": "code",
   "execution_count": 35,
   "id": "46dc2920-a3b5-41dc-a228-625acb1a4dcf",
   "metadata": {},
   "outputs": [
    {
     "name": "stdout",
     "output_type": "stream",
     "text": [
      "('John', 'Jenny')\n",
      "('Charles', 'Christy')\n",
      "('Mike', 'Monica')\n"
     ]
    }
   ],
   "source": [
    "for values in x:\n",
    "    print(values)"
   ]
  },
  {
   "cell_type": "code",
   "execution_count": 38,
   "id": "61cae201-be45-44ec-8b8e-936fe012b9ea",
   "metadata": {},
   "outputs": [
    {
     "name": "stdout",
     "output_type": "stream",
     "text": [
      "('Engels', 'Flamengo')\n",
      "('Rodolfo', 'Botafogo')\n"
     ]
    }
   ],
   "source": [
    "nome = ('Engels', 'Rodolfo', 'Elaine')\n",
    "time = ('Flamengo', 'Botafogo')\n",
    "\n",
    "for rel in zip(nome, time):\n",
    "    print(rel)"
   ]
  },
  {
   "cell_type": "code",
   "execution_count": 40,
   "id": "6bc2525d-883a-4bec-9b2c-7ea74b0b9355",
   "metadata": {},
   "outputs": [],
   "source": [
    "autores_livros = {nome: time for nome, time in zip(nome, time)}"
   ]
  },
  {
   "cell_type": "code",
   "execution_count": 41,
   "id": "ff6172f4-1f37-4e9d-b56f-bbc45aa73647",
   "metadata": {},
   "outputs": [
    {
     "name": "stdout",
     "output_type": "stream",
     "text": [
      "{'Engels': 'Flamengo', 'Rodolfo': 'Botafogo'}\n"
     ]
    }
   ],
   "source": [
    "print(autores_livros)"
   ]
  },
  {
   "cell_type": "code",
   "execution_count": 42,
   "id": "0dc108bf-a869-4482-8884-5cdb6bf43b04",
   "metadata": {},
   "outputs": [],
   "source": [
    "# Dict Comprehensions"
   ]
  },
  {
   "cell_type": "code",
   "execution_count": 43,
   "id": "434eaa03-191f-4932-bed9-9873d12b3863",
   "metadata": {},
   "outputs": [],
   "source": [
    "dicionario = {elemento: elemento*2 for elemento in range(6)}"
   ]
  },
  {
   "cell_type": "code",
   "execution_count": 44,
   "id": "3909b146-e318-4536-a53e-41b481b236ec",
   "metadata": {},
   "outputs": [
    {
     "name": "stdout",
     "output_type": "stream",
     "text": [
      "{0: 0, 1: 2, 2: 4, 3: 6, 4: 8, 5: 10}\n"
     ]
    }
   ],
   "source": [
    "print(dicionario)"
   ]
  },
  {
   "cell_type": "code",
   "execution_count": 53,
   "id": "481dd6de-9012-4722-80fb-d547f7db2359",
   "metadata": {},
   "outputs": [],
   "source": [
    "equipes = ['Ferrari', 'Mercedes', 'Red Bull', 'Alpine']\n",
    "dicionario = {\n",
    "    f'{elemento.lower()}:' f'Montadora: {elemento.upper()}' for elemento in equipes\n",
    "}"
   ]
  },
  {
   "cell_type": "code",
   "execution_count": 55,
   "id": "c30f49a1-df37-43b5-b8ce-524a0f37e473",
   "metadata": {},
   "outputs": [
    {
     "name": "stdout",
     "output_type": "stream",
     "text": [
      "red bull:Montadora: RED BULL\n",
      "alpine:Montadora: ALPINE\n",
      "ferrari:Montadora: FERRARI\n",
      "mercedes:Montadora: MERCEDES\n"
     ]
    }
   ],
   "source": [
    "for i in dicionario:\n",
    "    print(i)"
   ]
  },
  {
   "cell_type": "code",
   "execution_count": 60,
   "id": "e720bcf2-b311-41e7-b510-443905854830",
   "metadata": {},
   "outputs": [],
   "source": [
    "carros_esportivos = {\n",
    "    'Ferrari': 1299000,\n",
    "    'Lamborghini': 1100000,\n",
    "    'Porsche': 759000\n",
    "}"
   ]
  },
  {
   "cell_type": "code",
   "execution_count": 61,
   "id": "2e022f8b-b949-42f5-9efb-75bc639c2a8c",
   "metadata": {},
   "outputs": [
    {
     "name": "stdout",
     "output_type": "stream",
     "text": [
      "Ferrari\n",
      "Lamborghini\n",
      "Porsche\n"
     ]
    }
   ],
   "source": [
    "for i in carros_esportivos:\n",
    "    print(i)"
   ]
  },
  {
   "cell_type": "code",
   "execution_count": 72,
   "id": "431cfaad-a9f5-44c5-8376-c2cedb945e61",
   "metadata": {},
   "outputs": [],
   "source": [
    "dict_saida = {chave: f'{chave.upper()}: {valor}' for chave, valor in carros_esportivos.items()}"
   ]
  },
  {
   "cell_type": "code",
   "execution_count": 73,
   "id": "c3503e29-2bdb-4d6e-85a1-591ee3a17e23",
   "metadata": {},
   "outputs": [
    {
     "name": "stdout",
     "output_type": "stream",
     "text": [
      "{'Ferrari': 'FERRARI: 1299000', 'Lamborghini': 'LAMBORGHINI: 1100000', 'Porsche': 'PORSCHE: 759000'}\n"
     ]
    }
   ],
   "source": [
    "print(dict_saida)"
   ]
  },
  {
   "cell_type": "code",
   "execution_count": 75,
   "id": "33d0f5c9-f0e1-4ac6-a2ad-6168bb437ee3",
   "metadata": {},
   "outputs": [],
   "source": [
    "numeros = ['num1', 'num2', 'num3']"
   ]
  },
  {
   "cell_type": "code",
   "execution_count": 79,
   "id": "d706661d-b145-4e00-aa0f-f1da3a248326",
   "metadata": {},
   "outputs": [],
   "source": [
    "dicionario = {numeros: valor * 2 for numeros,valor in zip(numeros, range(1,4))}"
   ]
  },
  {
   "cell_type": "code",
   "execution_count": 80,
   "id": "f87a06b7-7dc7-45a3-9692-f3ebe385e108",
   "metadata": {},
   "outputs": [
    {
     "name": "stdout",
     "output_type": "stream",
     "text": [
      "{'num1': 2, 'num2': 4, 'num3': 6}\n"
     ]
    }
   ],
   "source": [
    "print(dicionario)"
   ]
  },
  {
   "cell_type": "code",
   "execution_count": 81,
   "id": "044b12b7-308c-4775-a6f4-f3bdfe15d553",
   "metadata": {},
   "outputs": [],
   "source": [
    "ano = ['1990', '1994', '1998', '2002', '2006', '2010', '2014', '2018', '2022']\n",
    "campeao = ['Alemanha', 'Brasil', 'França', 'Brasil', 'Italia', 'Espanha', 'Alemanha', 'França', 'Brasil']"
   ]
  },
  {
   "cell_type": "code",
   "execution_count": 82,
   "id": "851137d4-3eed-4dc7-9445-d450cdd4b19b",
   "metadata": {},
   "outputs": [],
   "source": [
    "copas = {ano: campeao for ano, campeao in zip(ano, campeao)}"
   ]
  },
  {
   "cell_type": "code",
   "execution_count": 84,
   "id": "c0e5d4ac-be29-4d79-9beb-07ddf5adb118",
   "metadata": {},
   "outputs": [
    {
     "name": "stdout",
     "output_type": "stream",
     "text": [
      "Ano: 1990, Campeão: Alemanha\n",
      "Ano: 1994, Campeão: Brasil\n",
      "Ano: 1998, Campeão: França\n",
      "Ano: 2002, Campeão: Brasil\n",
      "Ano: 2006, Campeão: Italia\n",
      "Ano: 2010, Campeão: Espanha\n",
      "Ano: 2014, Campeão: Alemanha\n",
      "Ano: 2018, Campeão: França\n",
      "Ano: 2022, Campeão: Brasil\n"
     ]
    }
   ],
   "source": [
    "for k, v in copas.items():\n",
    "    print(f'Ano: {k}, Campeão: {v}')"
   ]
  },
  {
   "cell_type": "code",
   "execution_count": 85,
   "id": "bd544206-ecf3-4556-a24e-8eed077a58a8",
   "metadata": {},
   "outputs": [],
   "source": [
    "# Dicionários aninhados"
   ]
  },
  {
   "cell_type": "code",
   "execution_count": 87,
   "id": "365ac746-8ce0-4145-b800-e4f4dd223693",
   "metadata": {},
   "outputs": [],
   "source": [
    "jogos = {\n",
    "    '1': {'nome': 'Castlevania', 'genero': 'Aventura'},\n",
    "    '2': {'nome': 'Hollow Knight', 'genero': 'Metroidvenia'},\n",
    "    '3': {'nome': 'World of Warcraft', 'genero': 'MMORPG'}\n",
    "}"
   ]
  },
  {
   "cell_type": "code",
   "execution_count": 88,
   "id": "79c7a67e-b53e-446c-a018-1239fd6acbc1",
   "metadata": {},
   "outputs": [
    {
     "name": "stdout",
     "output_type": "stream",
     "text": [
      "{'nome': 'Castlevania', 'genero': 'Aventura'}\n"
     ]
    }
   ],
   "source": [
    "print(jogos['1'])"
   ]
  },
  {
   "cell_type": "code",
   "execution_count": 89,
   "id": "c63b822c-85bb-4fec-b3eb-3428c8adfbee",
   "metadata": {},
   "outputs": [
    {
     "name": "stdout",
     "output_type": "stream",
     "text": [
      "{'nome': 'Hollow Knight', 'genero': 'Metroidvenia'}\n"
     ]
    }
   ],
   "source": [
    "print(jogos.get('2'))"
   ]
  },
  {
   "cell_type": "code",
   "execution_count": 90,
   "id": "84767697-c158-4b35-ba58-68f447463598",
   "metadata": {},
   "outputs": [
    {
     "name": "stdout",
     "output_type": "stream",
     "text": [
      "Este jogo n existe\n"
     ]
    }
   ],
   "source": [
    "print(jogos.get('4', 'Este jogo n existe'))"
   ]
  },
  {
   "cell_type": "code",
   "execution_count": 91,
   "id": "5d46e9fc-2ade-4f53-8090-01b4b94bab0e",
   "metadata": {},
   "outputs": [
    {
     "name": "stdout",
     "output_type": "stream",
     "text": [
      "World of Warcraft\n"
     ]
    }
   ],
   "source": [
    "print(jogos['3']['nome'])"
   ]
  },
  {
   "cell_type": "code",
   "execution_count": null,
   "id": "54b7b18e-8930-40dd-9ca3-1633ed86487a",
   "metadata": {},
   "outputs": [],
   "source": []
  }
 ],
 "metadata": {
  "kernelspec": {
   "display_name": "Python 3 (ipykernel)",
   "language": "python",
   "name": "python3"
  },
  "language_info": {
   "codemirror_mode": {
    "name": "ipython",
    "version": 3
   },
   "file_extension": ".py",
   "mimetype": "text/x-python",
   "name": "python",
   "nbconvert_exporter": "python",
   "pygments_lexer": "ipython3",
   "version": "3.10.5"
  }
 },
 "nbformat": 4,
 "nbformat_minor": 5
}
